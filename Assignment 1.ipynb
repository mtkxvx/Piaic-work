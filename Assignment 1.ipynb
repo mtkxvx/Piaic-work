{
 "cells": [
  {
   "cell_type": "raw",
   "metadata": {},
   "source": [
    "Name : Muhammad Taha Ehtesham Khan\n",
    "Roll No : AIC013801\n",
    "Campus : Saylani Gulshan (9:00 - 12:00)"
   ]
  },
  {
   "cell_type": "code",
   "execution_count": 1,
   "metadata": {},
   "outputs": [
    {
     "name": "stdout",
     "output_type": "stream",
     "text": [
      "Input radius: 0.5\n",
      "Area of radius 0.5  is  0.7853981633974483\n"
     ]
    }
   ],
   "source": [
    "#1. Calculate Area of a Circle\n",
    "from math import pi\n",
    "radius = input(\"Input radius: \")\n",
    "r = float(radius)\n",
    "area = pi*r**2\n",
    "print(\"Area of radius\",r,\" is \",area)"
   ]
  },
  {
   "cell_type": "code",
   "execution_count": 2,
   "metadata": {},
   "outputs": [
    {
     "name": "stdout",
     "output_type": "stream",
     "text": [
      "Enter Number: -1\n",
      "Negative Number Entered\n"
     ]
    }
   ],
   "source": [
    "#2. Check Number either positive, negative or zero\n",
    "number = input(\"Enter Number: \")\n",
    "n = int(number)\n",
    "if n < 0 :\n",
    "    print (\"Negative Number Entered\")\n",
    "elif n > 0 :\n",
    "    print (\"positive Number Entered\")\n",
    "elif n ==  0 :\n",
    "    print (\"zero Entered\")\n"
   ]
  },
  {
   "cell_type": "code",
   "execution_count": 3,
   "metadata": {},
   "outputs": [
    {
     "name": "stdout",
     "output_type": "stream",
     "text": [
      "Enter numerator: 12\n",
      "Enter denomenator: 4\n",
      "Number  12  is Completely divisible by  4\n"
     ]
    }
   ],
   "source": [
    "#3. Divisibility Check of two numbers\n",
    "numerator = input(\"Enter numerator: \")\n",
    "denomenator = input(\"Enter denomenator: \")\n",
    "n = int(numerator)\n",
    "d = int(denomenator)\n",
    "if n % d == 0 :\n",
    "    print (\"Number \",n,\" is Completely divisible by \",d)\n",
    "else:\n",
    "    print (\"Number \",n,\" is NOT Completely divisible by \",d)"
   ]
  },
  {
   "cell_type": "code",
   "execution_count": 4,
   "metadata": {},
   "outputs": [
    {
     "name": "stdout",
     "output_type": "stream",
     "text": [
      "Enter a date in (dd/mm/yy) format:12/12/2018\n",
      "Enter a date in (dd/mm/yy) format:16/12/2018\n",
      "There are  4  between  12/12/2018  and  16/12/2018\n"
     ]
    }
   ],
   "source": [
    "#4. Days Calculator\n",
    "from datetime import date\n",
    "day1 = input(\"Enter a date in (dd/mm/yy) format:\")\n",
    "day2 = input(\"Enter a date in (dd/mm/yy) format:\")\n",
    "\n",
    "list = day1.split(\"/\")\n",
    "\n",
    "d1 = []\n",
    "for i in list:\n",
    "    d1.append(int(i))\n",
    "\n",
    "list = day2.split(\"/\")\n",
    "\n",
    "d2 = []\n",
    "for i in list:\n",
    "    d2.append(int(i))\n",
    "\n",
    "n1 = date(d1[2],d1[1],d1[0])\n",
    "n2 = date(d2[2],d2[1],d2[0])\n",
    "\n",
    "difference = n2 - n1\n",
    "\n",
    "print(\"There are \",difference.days,\" between \",day1,\" and \",day2)\n",
    "    \n"
   ]
  },
  {
   "cell_type": "code",
   "execution_count": 5,
   "metadata": {},
   "outputs": [
    {
     "name": "stdout",
     "output_type": "stream",
     "text": [
      "Input radius: 1\n",
      "Volume of the Sphere with Radius  1.0  is  4.1887902047863905\n"
     ]
    }
   ],
   "source": [
    "#5. Calculate Volume of a sphere\n",
    "from math import pi\n",
    "radius = input(\"Input radius: \")\n",
    "r = float(radius)\n",
    "volume = 4/3 *pi *r**3\n",
    "print(\"Volume of the Sphere with Radius \",r,\" is \",volume)"
   ]
  },
  {
   "cell_type": "code",
   "execution_count": 6,
   "metadata": {},
   "outputs": [
    {
     "name": "stdout",
     "output_type": "stream",
     "text": [
      "Enter String: Hi\n",
      "How many copies of String you need: 4\n",
      "HiHiHiHi\n"
     ]
    }
   ],
   "source": [
    "#6. Copy string n times\n",
    "a = input(\"Enter String: \")\n",
    "b = input(\"How many copies of String you need: \")\n",
    "n = int(b)\n",
    "print (a*n)"
   ]
  },
  {
   "cell_type": "code",
   "execution_count": 7,
   "metadata": {},
   "outputs": [
    {
     "name": "stdout",
     "output_type": "stream",
     "text": [
      "Enter number: 7\n",
      "Number  7  is Odd\n"
     ]
    }
   ],
   "source": [
    "#7. Check if number is Even or Odd\n",
    "number = input(\"Enter number: \")\n",
    "n = int(number)\n",
    "if n % 2 == 0 :\n",
    "    print (\"Number \",n,\" is Even\")\n",
    "else:\n",
    "    print (\"Number \",n,\" is Odd\")"
   ]
  },
  {
   "cell_type": "code",
   "execution_count": 1,
   "metadata": {},
   "outputs": [
    {
     "name": "stdout",
     "output_type": "stream",
     "text": [
      "Enter a character: u\n",
      "Letter  u  is a Vowel\n"
     ]
    }
   ],
   "source": [
    "#8. Vowel Tester\n",
    "vowel = ['a','e','i','o','u']\n",
    "char = input(\"Enter a character: \")\n",
    "\n",
    "if char in vowel:\n",
    "    print (\"Letter \",char,\" is a Vowel\")\n",
    "else:\n",
    "    print (\"Letter \",char,\" is NOT a Vowel\")\n",
    "    "
   ]
  },
  {
   "cell_type": "code",
   "execution_count": 2,
   "metadata": {},
   "outputs": [
    {
     "name": "stdout",
     "output_type": "stream",
     "text": [
      "Enter magnitude of Triangle base: 4\n",
      "Enter magnitude of Triangle height: 4\n",
      "Area of a Triangle with Height 4  and Base  4  is  8.0\n"
     ]
    }
   ],
   "source": [
    "#9. Triangle area\n",
    "base = input(\"Enter magnitude of Triangle base: \")\n",
    "height = input(\"Enter magnitude of Triangle height: \")\n",
    "b = int(base)\n",
    "h = int(height)\n",
    "area = 1/2 * b*h\n",
    "print (\"Area of a Triangle with Height\" ,h, \" and Base \" ,b,\" is \" ,area,)"
   ]
  },
  {
   "cell_type": "code",
   "execution_count": 3,
   "metadata": {},
   "outputs": [
    {
     "name": "stdout",
     "output_type": "stream",
     "text": [
      "Please enter principal amount: 10000\n",
      "please Enter Rate of interest in %: 0.1\n",
      "Enter number of years for investment: 5\n",
      "10049.999999999998\n"
     ]
    }
   ],
   "source": [
    "#10. Calculate Interest\n",
    "principal = input(\"Please enter principal amount: \")\n",
    "interest = input(\"please Enter Rate of interest in %: \")\n",
    "years = input(\"Enter number of years for investment: \")\n",
    "p = float(principal)\n",
    "r = float(interest)\n",
    "r = r/100\n",
    "t = int(years)\n",
    "\n",
    "amount = p*(1+r*t)\n",
    "\n",
    "print(amount)\n"
   ]
  },
  {
   "cell_type": "code",
   "execution_count": 4,
   "metadata": {},
   "outputs": [
    {
     "name": "stdout",
     "output_type": "stream",
     "text": [
      "Enter Co-ordinate for x1: 2\n",
      "Enter Co-ordinate for x2: 4\n",
      "Enter Co-ordinate for y1: 4\n",
      "Enter Co-ordinate for y2: 4\n",
      "2.0\n"
     ]
    }
   ],
   "source": [
    "#11. Euclidean distance\n",
    "x1 = input(\"Enter Co-ordinate for x1: \")\n",
    "x2 = input(\"Enter Co-ordinate for x2: \")\n",
    "y1 = input(\"Enter Co-ordinate for y1: \")\n",
    "y2 = input(\"Enter Co-ordinate for y2: \")\n",
    "\n",
    "x1 = int(x1)\n",
    "x2 = int(x2)\n",
    "y1 = int(y1)\n",
    "y2 = int(y2)\n",
    "\n",
    "import math\n",
    "\n",
    "distance = math.sqrt((x2-x1)**2 + (y2-y1)**2)\n",
    "print(distance)\n"
   ]
  },
  {
   "cell_type": "code",
   "execution_count": 6,
   "metadata": {},
   "outputs": [
    {
     "name": "stdout",
     "output_type": "stream",
     "text": [
      "Enter Height in Feet: 5\n",
      "There are  152.4 Cm in  5.0 ft\n"
     ]
    }
   ],
   "source": [
    "#12. Feet to Centimeter Converter\n",
    "height = input(\"Enter Height in Feet: \")\n",
    "h = float(height)\n",
    "Cm = h*30.48\n",
    "print(\"There are \" ,Cm, \"Cm in \" ,h, \"ft\")"
   ]
  },
  {
   "cell_type": "code",
   "execution_count": 7,
   "metadata": {},
   "outputs": [
    {
     "name": "stdout",
     "output_type": "stream",
     "text": [
      "Enter Height in Cm: 180\n",
      "Enter Weight in Kg: 75\n",
      "23.148148148148145\n"
     ]
    }
   ],
   "source": [
    "#13. BMI Calculator\n",
    "\n",
    "height = float(input(\"Enter Height in Cm: \"))\n",
    "weight = float(input(\"Enter Weight in Kg: \"))\n",
    "\n",
    "h = height/100\n",
    "\n",
    "bmi = weight / (h*h)\n",
    "\n",
    "print(bmi)"
   ]
  },
  {
   "cell_type": "code",
   "execution_count": 9,
   "metadata": {},
   "outputs": [
    {
     "name": "stdout",
     "output_type": "stream",
     "text": [
      "Enter Value of n: 5\n",
      "15\n"
     ]
    }
   ],
   "source": [
    "#14. Sum of n Positive Integers\n",
    "\n",
    "n = int(input(\"Enter Value of n: \"))\n",
    "\n",
    "sum = 0\n",
    "for i in range(n+1):\n",
    "    sum = sum + i\n",
    "\n",
    "print(sum)"
   ]
  },
  {
   "cell_type": "code",
   "execution_count": 10,
   "metadata": {},
   "outputs": [
    {
     "name": "stdout",
     "output_type": "stream",
     "text": [
      "Enter a number: 1234\n",
      "The sum of  1+2+3+4  is  10\n"
     ]
    }
   ],
   "source": [
    "#15. Digits Sum of a Number\n",
    "\n",
    "number = input(\"Enter a number: \")\n",
    "n = int(number)\n",
    "\n",
    "def sumDigit(n):\n",
    "    s = 0\n",
    "    while n:\n",
    "        \n",
    "        s += n % 10\n",
    "        n//= 10\n",
    "    return s\n",
    "num = \"\"\n",
    "\n",
    "for i in number[:-1]:\n",
    "    num = num + i + \"+\"\n",
    "num = num + number[len(number)-1]\n",
    "\n",
    "\n",
    "print (\"The sum of \",num, \" is \", sumDigit(n)) \n"
   ]
  },
  {
   "cell_type": "code",
   "execution_count": 11,
   "metadata": {},
   "outputs": [
    {
     "name": "stdout",
     "output_type": "stream",
     "text": [
      "Enter a Decimal Number: 32\n",
      "Binary representation of  32  is:  100000\n"
     ]
    }
   ],
   "source": [
    "#16. Decimal to Binary Converter\n",
    "\n",
    "decimal = int(input(\"Enter a Decimal Number: \"))\n",
    "\n",
    "print(\"Binary representation of \",decimal, \" is: \",bin(decimal)[2:])"
   ]
  },
  {
   "cell_type": "code",
   "execution_count": 19,
   "metadata": {},
   "outputs": [
    {
     "name": "stdout",
     "output_type": "stream",
     "text": [
      "Enter a Binary Number: 1101\n",
      "Decimal Representation of  1101  is  13\n"
     ]
    }
   ],
   "source": [
    "#17. Binary to Decimal Converter\n",
    "\n",
    "binary = input(\"Enter a Binary Number: \")\n",
    "\n",
    "print(\"Decimal Representation of \",binary,\" is \",int(binary,2))"
   ]
  },
  {
   "cell_type": "code",
   "execution_count": 20,
   "metadata": {},
   "outputs": [
    {
     "name": "stdout",
     "output_type": "stream",
     "text": [
      "Enter Text: quickbrownfoxjumpsoverthedog\n",
      "Vowels:  9 \n",
      "Consonants:  19\n"
     ]
    }
   ],
   "source": [
    "#18. Vowel and Consonants Counter\n",
    "\n",
    "s = input(\"Enter Text: \")\n",
    "\n",
    "vowel = ['a','e','i','o','u']\n",
    "\n",
    "vowels = 0\n",
    "consonants = 0\n",
    "\n",
    "for i in s:\n",
    "    if i in vowel:\n",
    "        vowels = vowels + 1\n",
    "    else:\n",
    "        consonants = consonants +1\n",
    "print(\"Vowels: \",vowels,\"\\nConsonants: \",consonants)"
   ]
  },
  {
   "cell_type": "code",
   "execution_count": 12,
   "metadata": {},
   "outputs": [
    {
     "name": "stdout",
     "output_type": "stream",
     "text": [
      "Enter Text: madam\n",
      "Text  madam  is Palindrome\n"
     ]
    }
   ],
   "source": [
    "#19. Palindrome tester\n",
    "\n",
    "\n",
    "\n",
    "forward = input(\"Enter Text: \")\n",
    "reverse = forward[::-1]\n",
    "\n",
    "if  forward == reverse:\n",
    "    print(\"Text \",forward, \" is Palindrome\")\n",
    "else:\n",
    "    print(\"Text \",forward, \" is NOT Palindrome\")\n",
    "\n"
   ]
  },
  {
   "cell_type": "code",
   "execution_count": 13,
   "metadata": {},
   "outputs": [
    {
     "name": "stdout",
     "output_type": "stream",
     "text": [
      "Enter Text: Python 3.1\n",
      "Numbers =  2\n",
      "Alphabets =  6\n",
      "Spaces =  1\n",
      "Special Characters =  1\n"
     ]
    }
   ],
   "source": [
    "#20. Count Alphabets, Numbers and Special Characters\n",
    "import string\n",
    "s = input(\"Enter Text: \")\n",
    "\n",
    "digits = 0\n",
    "chars = 0\n",
    "special = 0\n",
    "spaces = 0\n",
    "\n",
    "for i in s:\n",
    "    if i.isdigit() == True:\n",
    "        digits = digits+1\n",
    "    if i.isalpha() == True:\n",
    "        chars = chars + 1\n",
    "    elif i == \" \":\n",
    "        spaces = spaces + 1\n",
    "    if i in string.punctuation:\n",
    "        special = special + 1\n",
    "\n",
    "print(\"Numbers = \",digits)\n",
    "print(\"Alphabets = \",chars)\n",
    "print(\"Spaces = \",spaces)\n",
    "print(\"Special Characters = \",special)\n",
    "    "
   ]
  },
  {
   "cell_type": "code",
   "execution_count": 14,
   "metadata": {},
   "outputs": [
    {
     "name": "stdout",
     "output_type": "stream",
     "text": [
      "\n",
      "\n",
      "\n",
      "\n",
      "* \n",
      "\n",
      "* * \n",
      "\n",
      "* * * \n",
      "\n",
      "* * * * \n",
      "\n",
      "* * * * * \n",
      "\n",
      "* * * * \n",
      "\n",
      "* * * \n",
      "\n",
      "* * \n",
      "\n",
      "* "
     ]
    }
   ],
   "source": [
    "#21. Write a Python program to construct the following pattern\n",
    "\n",
    "for i in range(6):\n",
    "    print(\"\\n\")\n",
    "    for j in range(1,i+1):\n",
    "        print(\"*\",end = \" \")\n",
    "\n",
    "for i in range(5,1,-1):\n",
    "    print(\"\\n\")\n",
    "    for j in range(1,i):\n",
    "        print(\"*\",end = \" \")"
   ]
  },
  {
   "cell_type": "code",
   "execution_count": 15,
   "metadata": {},
   "outputs": [
    {
     "name": "stdout",
     "output_type": "stream",
     "text": [
      "\n",
      "\n",
      "\n",
      "\n",
      "1 \n",
      "\n",
      "1 2 \n",
      "\n",
      "1 2 3 \n",
      "\n",
      "1 2 3 4 \n",
      "\n",
      "1 2 3 4 5 \n",
      "\n",
      "1 2 3 4 \n",
      "\n",
      "1 2 3 \n",
      "\n",
      "1 2 \n",
      "\n",
      "1 "
     ]
    }
   ],
   "source": [
    "#22. Write a Python program to construct the following pattern\n",
    "\n",
    "for i in range(6):\n",
    "    print(\"\\n\")\n",
    "    for j in range(1,i+1):\n",
    "        print(j,end = \" \")\n",
    "\n",
    "for i in range(5,1,-1):\n",
    "    print(\"\\n\")\n",
    "    for j in range(1,i):\n",
    "        print(j,end = \" \")"
   ]
  },
  {
   "cell_type": "code",
   "execution_count": 16,
   "metadata": {},
   "outputs": [
    {
     "name": "stdout",
     "output_type": "stream",
     "text": [
      "\n",
      "\n",
      "\n",
      "\n",
      "1\n",
      "\n",
      "22\n",
      "\n",
      "333\n",
      "\n",
      "4444\n",
      "\n",
      "55555\n",
      "\n",
      "666666\n",
      "\n",
      "7777777\n",
      "\n",
      "88888888\n",
      "\n",
      "999999999"
     ]
    }
   ],
   "source": [
    "#23. Write a Python program to construct the following pattern\n",
    "\n",
    "for i in range(10):\n",
    "    print(\"\\n\")\n",
    "    for j in range(1,i+1):\n",
    "        print(i,end = \"\")"
   ]
  },
  {
   "cell_type": "code",
   "execution_count": null,
   "metadata": {},
   "outputs": [],
   "source": []
  }
 ],
 "metadata": {
  "kernelspec": {
   "display_name": "Python 3",
   "language": "python",
   "name": "python3"
  },
  "language_info": {
   "codemirror_mode": {
    "name": "ipython",
    "version": 3
   },
   "file_extension": ".py",
   "mimetype": "text/x-python",
   "name": "python",
   "nbconvert_exporter": "python",
   "pygments_lexer": "ipython3",
   "version": "3.7.3"
  }
 },
 "nbformat": 4,
 "nbformat_minor": 2
}
