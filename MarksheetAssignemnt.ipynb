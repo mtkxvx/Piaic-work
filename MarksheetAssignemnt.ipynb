{
 "cells": [
  {
   "cell_type": "code",
   "execution_count": 4,
   "metadata": {},
   "outputs": [
    {
     "name": "stdout",
     "output_type": "stream",
     "text": [
      "-♦-♦-♦-♦-♦-♦-♦-♦-♦-♦-♦-♦-♦-♦-♦-♦-MARKSHEET-♦-♦-♦-♦-♦-♦-♦-♦-♦-♦-♦-♦-♦-♦-♦-♦-♦-♦-♦-\n",
      "STUDENT NAME: Adeel\n",
      "FATHER NAME: Aqeel\n",
      "ROLL NO: 78\n",
      "DEPARTMENT: ce\n",
      "SEMESTER: 6\n",
      "ENGLISH: 88\n",
      "DISCREET MATH: 99\n",
      "DATA STRUCTURE: 78\n",
      "INTRODUCTION TO S.E: 76\n",
      "DIGITAL LOGICAL DISGN: 56\n"
     ]
    }
   ],
   "source": [
    "print(\"-♦-♦-♦-♦-♦-♦-♦-♦-♦-♦-♦-♦-♦-♦-♦-♦-MARKSHEET-♦-♦-♦-♦-♦-♦-♦-♦-♦-♦-♦-♦-♦-♦-♦-♦-♦-♦-♦-\")\n",
    "student_name = str(input (\"STUDENT NAME: \"))\n",
    "father_name = str(input (\"FATHER NAME: \"))\n",
    "rollno = str(input (\"ROLL NO: \"))\n",
    "department = str(input (\"DEPARTMENT: \"))\n",
    "semester = str(input (\"SEMESTER: \"))\n",
    "english = int(input (\"ENGLISH: \"))\n",
    "discret_math = int(input (\"DISCREET MATH: \"))\n",
    "data_structure= int(input (\"DATA STRUCTURE: \"))\n",
    "intro_SE = int(input (\"INTRODUCTION TO S.E: \"))\n",
    "digital_logical_disgn = int(input (\"DIGITAL LOGICAL DISGN: \"))\n",
    "text = \"STUDENT NAME: \"+student_name\n",
    "text += \"\\nFATHER NAME: \"+father_name\n",
    "text +=\"\\nROLL NO: \"+rollno\n",
    "text +=\"\\nDEPARTMENT: \"+department\n",
    "text +=\"\\nSEMESTER: \"+semester\n",
    "text +=\"\\n\\n\\nSUBJECT                      TOTAL MARKS                         OBTAINED MARKS\"\n",
    "text +=\"\\n-----------------------------------------------------------------------------------\"\n",
    "text +=\"\\nENGLISH                           100                                \"+ str(english)\n",
    "text +=\"\\nDISCREET MATH                     100                                \"+str(discret_math)\n",
    "text +=\"\\nDATA STRUCTURE                    100                                \"+str(data_structure)\n",
    "text +=\"\\nINTRODUCTION TO S.E               100                                \"+str(intro_SE)\n",
    "text +=\"\\nDIGITAL LOGICAL DISGN             100                                \"+str(digital_logical_disgn)\n",
    "total_obtain_marks = english + discret_math + data_structure + intro_SE + digital_logical_disgn\n",
    "percentage = (total_obtain_marks*100)/500 \n",
    "text +=\"\\n\\nTOTAL OBTAINED MARKS\"+ str(total_obtain_marks)\n",
    "text +=\"\\nPERCENTAGE\"+str(percentage)\n",
    "if 90 <= percentage <=100:\n",
    "    text +=\"\\nGRADE: A1+\"\n",
    "elif 80 <= percentage <90:\n",
    "    text +=\"\\nGRADE: A1\"\n",
    "elif 70 <= percentage <80:\n",
    "    text +=\"\\nGRADE: A\"\n",
    "elif 60 <= percentage <70:\n",
    "    text +=\"\\nGRADE: B\"\n",
    "elif 50 <= percentage <60:\n",
    "    text +=\"\\nGRADE: C\"\n",
    "else:\n",
    "    text +=\"\\nSORRY,YOU ARE FAIL\"\n",
    "\n",
    "#saving to txt file\n",
    "with open(\"marksheetText.txt\", \"w\") as f:\n",
    "    f.write(text)\n",
    "print(\"marksheet succesfully saved!\")"
   ]
  },
  {
   "cell_type": "markdown",
   "metadata": {},
   "source": [
    "### "
   ]
  }
 ],
 "metadata": {
  "kernelspec": {
   "display_name": "Python 3",
   "language": "python",
   "name": "python3"
  },
  "language_info": {
   "codemirror_mode": {
    "name": "ipython",
    "version": 3
   },
   "file_extension": ".py",
   "mimetype": "text/x-python",
   "name": "python",
   "nbconvert_exporter": "python",
   "pygments_lexer": "ipython3",
   "version": "3.7.3"
  }
 },
 "nbformat": 4,
 "nbformat_minor": 2
}
