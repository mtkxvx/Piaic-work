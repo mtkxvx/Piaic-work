{
 "cells": [
  {
   "cell_type": "code",
   "execution_count": 8,
   "metadata": {},
   "outputs": [
    {
     "name": "stdout",
     "output_type": "stream",
     "text": [
      "Enter the radius of circle :0.5\n",
      "0.785\n"
     ]
    }
   ],
   "source": [
    "rad= float( input ('Enter the radius of circle :') )\n",
    "a= 3.14*rad*rad\n",
    "print (a)"
   ]
  },
  {
   "cell_type": "code",
   "execution_count": 23,
   "metadata": {},
   "outputs": [
    {
     "name": "stdout",
     "output_type": "stream",
     "text": [
      "Enter the number \"\"-1\n",
      "The number you entered is negative\n"
     ]
    }
   ],
   "source": [
    "num= int(input ('Enter the number \"\"'))\n",
    "if num>0 :\n",
    "    print ( 'This number is positive')\n",
    "elif num==0 :\n",
    "        print('This number yu entered is zero')\n",
    "else :\n",
    "        print('The number you entered is negative')"
   ]
  },
  {
   "cell_type": "code",
   "execution_count": 28,
   "metadata": {},
   "outputs": [
    {
     "name": "stdout",
     "output_type": "stream",
     "text": [
      "Enter the number4\n",
      "Enter the number 2\n",
      "This number is divisible\n"
     ]
    }
   ],
   "source": [
    "num1 = int(input('Enter the number'))\n",
    "num2 = int(input('Enter the number '))\n",
    "\n",
    "if (num1%num2)==0 :\n",
    "    print('This number is divisible')\n",
    "else :\n",
    "    print('This number is not completely divisible')"
   ]
  },
  {
   "cell_type": "code",
   "execution_count": 30,
   "metadata": {},
   "outputs": [
    {
     "name": "stdout",
     "output_type": "stream",
     "text": [
      "9\n"
     ]
    }
   ],
   "source": [
    "from datetime import date\n",
    "f_date = date(2019, 7, 2)\n",
    "l_date = date(2019, 7, 11)\n",
    "delta = l_date - f_date\n",
    "print(delta.days)"
   ]
  },
  {
   "cell_type": "code",
   "execution_count": 1,
   "metadata": {},
   "outputs": [
    {
     "name": "stdout",
     "output_type": "stream",
     "text": [
      "Enter the number5\n",
      "The volume of the sphere is:  523.3333333333334\n"
     ]
    }
   ],
   "source": [
    "pi = 3.14\n",
    "r= float(input('Enter the number'))\n",
    "V= 4.0/3.0*pi* r**3\n",
    "print('The volume of the sphere is: ',V)"
   ]
  },
  {
   "cell_type": "code",
   "execution_count": 2,
   "metadata": {},
   "outputs": [
    {
     "name": "stdout",
     "output_type": "stream",
     "text": [
      "Enter the input 3\n",
      "how many times you want to copy4\n",
      "3\n",
      "3\n",
      "3\n",
      "3\n"
     ]
    }
   ],
   "source": [
    "count = 0\n",
    "val = input('Enter the input ')\n",
    "times = int(input('how many times you want to copy'))\n",
    "while (count < times ) :\n",
    "    count = count + 1\n",
    "    print(val) "
   ]
  },
  {
   "cell_type": "code",
   "execution_count": 3,
   "metadata": {},
   "outputs": [
    {
     "name": "stdout",
     "output_type": "stream",
     "text": [
      "Enter the number3\n",
      "3 this number is odd\n"
     ]
    }
   ],
   "source": [
    "num = int(input('Enter the number'))\n",
    "if(num%2)==0 :\n",
    "    print(num, 'this number is even')\n",
    "else:\n",
    "    print(num, 'this number is odd')\n",
    "    "
   ]
  },
  {
   "cell_type": "code",
   "execution_count": 4,
   "metadata": {},
   "outputs": [
    {
     "name": "stdout",
     "output_type": "stream",
     "text": [
      "Enter the charachterl\n",
      "l The charachter you entered is constant\n"
     ]
    }
   ],
   "source": [
    "char = input('Enter the charachter')\n",
    "if(char=='a' or char=='e' or char=='i' or char=='o'or char=='u') :\n",
    "    print(char, 'This alphabet is vowel')\n",
    "elif ('A'==char or 'E'==char or 'I'==char or 'O'==char or 'U'==char) :\n",
    "        print(char, 'This alphabet is vowel')\n",
    "else:\n",
    "    print(char, 'The charachter you entered is constant')"
   ]
  },
  {
   "cell_type": "code",
   "execution_count": 18,
   "metadata": {},
   "outputs": [
    {
     "name": "stdout",
     "output_type": "stream",
     "text": [
      "Enter the value of height4\n",
      "Enter the base 4\n"
     ]
    }
   ],
   "source": [
    "h = int(input('Enter the value of height'))\n",
    "b = int(input('Enter the base '))\n",
    "val = (h*b)/2\n",
    "print = ('Area of triangle' )"
   ]
  },
  {
   "cell_type": "code",
   "execution_count": 10,
   "metadata": {},
   "outputs": [
    {
     "name": "stdout",
     "output_type": "stream",
     "text": [
      "Enter the Principal Amount1000\n",
      "Enter the rate of intrest0.2\n",
      "Enter the time period5\n",
      "1010.04\n"
     ]
    }
   ],
   "source": [
    "amt = float(input('Enter the Principal Amount '))\n",
    "int = float(input('Enter the rate of intrest '))\n",
    "years = float(input('Enter the time period' ))\n",
    "\n",
    "future_value  = amt*((1+(0.01*int)) ** years)\n",
    "print('The value will be' round(future_value,2))"
   ]
  },
  {
   "cell_type": "code",
   "execution_count": null,
   "metadata": {},
   "outputs": [],
   "source": []
  }
 ],
 "metadata": {
  "kernelspec": {
   "display_name": "Python 3",
   "language": "python",
   "name": "python3"
  },
  "language_info": {
   "codemirror_mode": {
    "name": "ipython",
    "version": 3
   },
   "file_extension": ".py",
   "mimetype": "text/x-python",
   "name": "python",
   "nbconvert_exporter": "python",
   "pygments_lexer": "ipython3",
   "version": "3.7.3"
  }
 },
 "nbformat": 4,
 "nbformat_minor": 2
}
